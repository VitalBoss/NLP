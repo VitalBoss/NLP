{
 "cells": [
  {
   "cell_type": "markdown",
   "metadata": {},
   "source": [
    "# Будем предсказывать стоимость биткоина на неделю вперед"
   ]
  },
  {
   "cell_type": "code",
   "execution_count": 1,
   "metadata": {},
   "outputs": [],
   "source": [
    "# tools library\n",
    "import pandas as pd\n",
    "import numpy as np \n",
    "import matplotlib.pyplot as plt\n",
    "import seaborn as sns\n",
    "from statsmodels. tsa.stattools import adfuller #Критерий Дики-Фуллера\n",
    "import statsmodels.api as sm #разложение временного ряда и автокорреляция"
   ]
  },
  {
   "cell_type": "code",
   "execution_count": 2,
   "metadata": {},
   "outputs": [],
   "source": [
    "# модели sklearn\n",
    "from sklearn.linear_model import LinearRegression\n",
    "from sklearn import linear_model\n",
    "from sklearn.tree import DecisionTreeRegressor\n",
    "from sklearn.svm import SVR\n",
    "from sklearn.ensemble import GradientBoostingRegressor\n",
    "from sklearn.ensemble import RandomForestRegressor"
   ]
  },
  {
   "cell_type": "code",
   "execution_count": 3,
   "metadata": {},
   "outputs": [
    {
     "name": "stderr",
     "output_type": "stream",
     "text": [
      "c:\\Users\\Vitaliy\\AppData\\Local\\Programs\\Python\\Python37\\lib\\site-packages\\tqdm\\auto.py:21: TqdmWarning: IProgress not found. Please update jupyter and ipywidgets. See https://ipywidgets.readthedocs.io/en/stable/user_install.html\n",
      "  from .autonotebook import tqdm as notebook_tqdm\n"
     ]
    }
   ],
   "source": [
    "# модели pytorch\n",
    "from torch import nn"
   ]
  },
  {
   "cell_type": "code",
   "execution_count": 4,
   "metadata": {},
   "outputs": [],
   "source": [
    "# прогнозируемая метрика\n",
    "from sklearn.metrics import mean_absolute_error as mae "
   ]
  },
  {
   "cell_type": "markdown",
   "metadata": {},
   "source": [
    "предобработка данных"
   ]
  },
  {
   "cell_type": "code",
   "execution_count": 285,
   "metadata": {},
   "outputs": [
    {
     "data": {
      "text/html": [
       "<div>\n",
       "<style scoped>\n",
       "    .dataframe tbody tr th:only-of-type {\n",
       "        vertical-align: middle;\n",
       "    }\n",
       "\n",
       "    .dataframe tbody tr th {\n",
       "        vertical-align: top;\n",
       "    }\n",
       "\n",
       "    .dataframe thead th {\n",
       "        text-align: right;\n",
       "    }\n",
       "</style>\n",
       "<table border=\"1\" class=\"dataframe\">\n",
       "  <thead>\n",
       "    <tr style=\"text-align: right;\">\n",
       "      <th></th>\n",
       "      <th>Open</th>\n",
       "      <th>High</th>\n",
       "      <th>Low</th>\n",
       "      <th>Close</th>\n",
       "      <th>Volume</th>\n",
       "      <th>Market Cap</th>\n",
       "    </tr>\n",
       "    <tr>\n",
       "      <th>Date</th>\n",
       "      <th></th>\n",
       "      <th></th>\n",
       "      <th></th>\n",
       "      <th></th>\n",
       "      <th></th>\n",
       "      <th></th>\n",
       "    </tr>\n",
       "  </thead>\n",
       "  <tbody>\n",
       "    <tr>\n",
       "      <th>2017-07-31</th>\n",
       "      <td>2763.24</td>\n",
       "      <td>2889.62</td>\n",
       "      <td>2720.61</td>\n",
       "      <td>2875.34</td>\n",
       "      <td>860,575,000</td>\n",
       "      <td>45,535,800,000</td>\n",
       "    </tr>\n",
       "    <tr>\n",
       "      <th>2017-07-30</th>\n",
       "      <td>2724.39</td>\n",
       "      <td>2758.53</td>\n",
       "      <td>2644.85</td>\n",
       "      <td>2757.18</td>\n",
       "      <td>705,943,000</td>\n",
       "      <td>44,890,700,000</td>\n",
       "    </tr>\n",
       "    <tr>\n",
       "      <th>2017-07-29</th>\n",
       "      <td>2807.02</td>\n",
       "      <td>2808.76</td>\n",
       "      <td>2692.80</td>\n",
       "      <td>2726.45</td>\n",
       "      <td>803,746,000</td>\n",
       "      <td>46,246,700,000</td>\n",
       "    </tr>\n",
       "    <tr>\n",
       "      <th>2017-07-28</th>\n",
       "      <td>2679.73</td>\n",
       "      <td>2897.45</td>\n",
       "      <td>2679.73</td>\n",
       "      <td>2809.01</td>\n",
       "      <td>1,380,100,000</td>\n",
       "      <td>44,144,400,000</td>\n",
       "    </tr>\n",
       "    <tr>\n",
       "      <th>2017-07-27</th>\n",
       "      <td>2538.71</td>\n",
       "      <td>2693.32</td>\n",
       "      <td>2529.34</td>\n",
       "      <td>2671.78</td>\n",
       "      <td>789,104,000</td>\n",
       "      <td>41,816,500,000</td>\n",
       "    </tr>\n",
       "  </tbody>\n",
       "</table>\n",
       "</div>"
      ],
      "text/plain": [
       "               Open     High      Low    Close         Volume      Market Cap\n",
       "Date                                                                         \n",
       "2017-07-31  2763.24  2889.62  2720.61  2875.34    860,575,000  45,535,800,000\n",
       "2017-07-30  2724.39  2758.53  2644.85  2757.18    705,943,000  44,890,700,000\n",
       "2017-07-29  2807.02  2808.76  2692.80  2726.45    803,746,000  46,246,700,000\n",
       "2017-07-28  2679.73  2897.45  2679.73  2809.01  1,380,100,000  44,144,400,000\n",
       "2017-07-27  2538.71  2693.32  2529.34  2671.78    789,104,000  41,816,500,000"
      ]
     },
     "execution_count": 285,
     "metadata": {},
     "output_type": "execute_result"
    }
   ],
   "source": [
    "df_train = pd.read_csv(\"C:\\\\Users\\\\Vitaliy\\\\OneDrive\\\\Рабочий стол\\\\предсказание биткоина\\\\bitcoin_price_Training - Training.csv\", sep=',', parse_dates=True, index_col='Date')\n",
    "df_train.head()"
   ]
  },
  {
   "cell_type": "code",
   "execution_count": 286,
   "metadata": {},
   "outputs": [
    {
     "data": {
      "text/plain": [
       "(1556, 6)"
      ]
     },
     "execution_count": 286,
     "metadata": {},
     "output_type": "execute_result"
    }
   ],
   "source": [
    "df_train.shape"
   ]
  },
  {
   "cell_type": "code",
   "execution_count": 287,
   "metadata": {},
   "outputs": [
    {
     "data": {
      "text/html": [
       "<div>\n",
       "<style scoped>\n",
       "    .dataframe tbody tr th:only-of-type {\n",
       "        vertical-align: middle;\n",
       "    }\n",
       "\n",
       "    .dataframe tbody tr th {\n",
       "        vertical-align: top;\n",
       "    }\n",
       "\n",
       "    .dataframe thead th {\n",
       "        text-align: right;\n",
       "    }\n",
       "</style>\n",
       "<table border=\"1\" class=\"dataframe\">\n",
       "  <thead>\n",
       "    <tr style=\"text-align: right;\">\n",
       "      <th></th>\n",
       "      <th>Open</th>\n",
       "      <th>High</th>\n",
       "      <th>Low</th>\n",
       "      <th>Close</th>\n",
       "      <th>Volume</th>\n",
       "      <th>Market Cap</th>\n",
       "    </tr>\n",
       "    <tr>\n",
       "      <th>Date</th>\n",
       "      <th></th>\n",
       "      <th></th>\n",
       "      <th></th>\n",
       "      <th></th>\n",
       "      <th></th>\n",
       "      <th></th>\n",
       "    </tr>\n",
       "  </thead>\n",
       "  <tbody>\n",
       "    <tr>\n",
       "      <th>2017-08-07</th>\n",
       "      <td>3212.78</td>\n",
       "      <td>3397.68</td>\n",
       "      <td>3180.89</td>\n",
       "      <td>3378.94</td>\n",
       "      <td>1,482,280,000</td>\n",
       "      <td>52,987,300,000</td>\n",
       "    </tr>\n",
       "    <tr>\n",
       "      <th>2017-08-06</th>\n",
       "      <td>3257.61</td>\n",
       "      <td>3293.29</td>\n",
       "      <td>3155.60</td>\n",
       "      <td>3213.94</td>\n",
       "      <td>1,105,030,000</td>\n",
       "      <td>53,720,900,000</td>\n",
       "    </tr>\n",
       "    <tr>\n",
       "      <th>2017-08-05</th>\n",
       "      <td>2897.63</td>\n",
       "      <td>3290.01</td>\n",
       "      <td>2874.83</td>\n",
       "      <td>3252.91</td>\n",
       "      <td>1,945,700,000</td>\n",
       "      <td>47,778,200,000</td>\n",
       "    </tr>\n",
       "    <tr>\n",
       "      <th>2017-08-04</th>\n",
       "      <td>2806.93</td>\n",
       "      <td>2899.33</td>\n",
       "      <td>2743.72</td>\n",
       "      <td>2895.89</td>\n",
       "      <td>1,002,120,000</td>\n",
       "      <td>46,276,200,000</td>\n",
       "    </tr>\n",
       "    <tr>\n",
       "      <th>2017-08-03</th>\n",
       "      <td>2709.56</td>\n",
       "      <td>2813.31</td>\n",
       "      <td>2685.14</td>\n",
       "      <td>2804.73</td>\n",
       "      <td>804,797,000</td>\n",
       "      <td>44,666,400,000</td>\n",
       "    </tr>\n",
       "  </tbody>\n",
       "</table>\n",
       "</div>"
      ],
      "text/plain": [
       "               Open     High      Low    Close         Volume      Market Cap\n",
       "Date                                                                         \n",
       "2017-08-07  3212.78  3397.68  3180.89  3378.94  1,482,280,000  52,987,300,000\n",
       "2017-08-06  3257.61  3293.29  3155.60  3213.94  1,105,030,000  53,720,900,000\n",
       "2017-08-05  2897.63  3290.01  2874.83  3252.91  1,945,700,000  47,778,200,000\n",
       "2017-08-04  2806.93  2899.33  2743.72  2895.89  1,002,120,000  46,276,200,000\n",
       "2017-08-03  2709.56  2813.31  2685.14  2804.73    804,797,000  44,666,400,000"
      ]
     },
     "execution_count": 287,
     "metadata": {},
     "output_type": "execute_result"
    }
   ],
   "source": [
    "df2 = pd.read_csv(\"C:\\\\Users\\\\Vitaliy\\\\OneDrive\\\\Рабочий стол\\\\предсказание биткоина\\\\bitcoin_price_1week_Test - Test.csv\", sep=',', parse_dates=True, index_col='Date')\n",
    "df2.head()"
   ]
  },
  {
   "cell_type": "code",
   "execution_count": 288,
   "metadata": {},
   "outputs": [],
   "source": [
    "df = pd.concat([df_train, df2], axis=0)"
   ]
  },
  {
   "cell_type": "code",
   "execution_count": 289,
   "metadata": {},
   "outputs": [],
   "source": [
    "df.index.names=['Timestamp']\n",
    "df = df.sort_index()"
   ]
  },
  {
   "cell_type": "code",
   "execution_count": 290,
   "metadata": {},
   "outputs": [
    {
     "data": {
      "text/html": [
       "<div>\n",
       "<style scoped>\n",
       "    .dataframe tbody tr th:only-of-type {\n",
       "        vertical-align: middle;\n",
       "    }\n",
       "\n",
       "    .dataframe tbody tr th {\n",
       "        vertical-align: top;\n",
       "    }\n",
       "\n",
       "    .dataframe thead th {\n",
       "        text-align: right;\n",
       "    }\n",
       "</style>\n",
       "<table border=\"1\" class=\"dataframe\">\n",
       "  <thead>\n",
       "    <tr style=\"text-align: right;\">\n",
       "      <th></th>\n",
       "      <th>Open</th>\n",
       "      <th>High</th>\n",
       "      <th>Low</th>\n",
       "      <th>Close</th>\n",
       "      <th>Volume</th>\n",
       "      <th>Market Cap</th>\n",
       "    </tr>\n",
       "    <tr>\n",
       "      <th>Timestamp</th>\n",
       "      <th></th>\n",
       "      <th></th>\n",
       "      <th></th>\n",
       "      <th></th>\n",
       "      <th></th>\n",
       "      <th></th>\n",
       "    </tr>\n",
       "  </thead>\n",
       "  <tbody>\n",
       "    <tr>\n",
       "      <th>2013-04-28</th>\n",
       "      <td>135.30</td>\n",
       "      <td>135.98</td>\n",
       "      <td>132.10</td>\n",
       "      <td>134.21</td>\n",
       "      <td>-</td>\n",
       "      <td>1,500,520,000</td>\n",
       "    </tr>\n",
       "    <tr>\n",
       "      <th>2013-04-29</th>\n",
       "      <td>134.44</td>\n",
       "      <td>147.49</td>\n",
       "      <td>134.00</td>\n",
       "      <td>144.54</td>\n",
       "      <td>-</td>\n",
       "      <td>1,491,160,000</td>\n",
       "    </tr>\n",
       "    <tr>\n",
       "      <th>2013-04-30</th>\n",
       "      <td>144.00</td>\n",
       "      <td>146.93</td>\n",
       "      <td>134.05</td>\n",
       "      <td>139.00</td>\n",
       "      <td>-</td>\n",
       "      <td>1,597,780,000</td>\n",
       "    </tr>\n",
       "    <tr>\n",
       "      <th>2013-05-01</th>\n",
       "      <td>139.00</td>\n",
       "      <td>139.89</td>\n",
       "      <td>107.72</td>\n",
       "      <td>116.99</td>\n",
       "      <td>-</td>\n",
       "      <td>1,542,820,000</td>\n",
       "    </tr>\n",
       "    <tr>\n",
       "      <th>2013-05-02</th>\n",
       "      <td>116.38</td>\n",
       "      <td>125.60</td>\n",
       "      <td>92.28</td>\n",
       "      <td>105.21</td>\n",
       "      <td>-</td>\n",
       "      <td>1,292,190,000</td>\n",
       "    </tr>\n",
       "  </tbody>\n",
       "</table>\n",
       "</div>"
      ],
      "text/plain": [
       "              Open    High     Low   Close Volume     Market Cap\n",
       "Timestamp                                                       \n",
       "2013-04-28  135.30  135.98  132.10  134.21      -  1,500,520,000\n",
       "2013-04-29  134.44  147.49  134.00  144.54      -  1,491,160,000\n",
       "2013-04-30  144.00  146.93  134.05  139.00      -  1,597,780,000\n",
       "2013-05-01  139.00  139.89  107.72  116.99      -  1,542,820,000\n",
       "2013-05-02  116.38  125.60   92.28  105.21      -  1,292,190,000"
      ]
     },
     "execution_count": 290,
     "metadata": {},
     "output_type": "execute_result"
    }
   ],
   "source": [
    "df.head()"
   ]
  },
  {
   "cell_type": "code",
   "execution_count": 291,
   "metadata": {},
   "outputs": [
    {
     "data": {
      "text/plain": [
       "(1563, 6)"
      ]
     },
     "execution_count": 291,
     "metadata": {},
     "output_type": "execute_result"
    }
   ],
   "source": [
    "df.shape"
   ]
  },
  {
   "cell_type": "code",
   "execution_count": 292,
   "metadata": {},
   "outputs": [],
   "source": [
    "def filter(x):\n",
    "    if x != '-':\n",
    "        return int(x.replace(',', ''))\n",
    "    else:\n",
    "        return np.nan"
   ]
  },
  {
   "cell_type": "code",
   "execution_count": 293,
   "metadata": {},
   "outputs": [
    {
     "data": {
      "text/html": [
       "<div>\n",
       "<style scoped>\n",
       "    .dataframe tbody tr th:only-of-type {\n",
       "        vertical-align: middle;\n",
       "    }\n",
       "\n",
       "    .dataframe tbody tr th {\n",
       "        vertical-align: top;\n",
       "    }\n",
       "\n",
       "    .dataframe thead th {\n",
       "        text-align: right;\n",
       "    }\n",
       "</style>\n",
       "<table border=\"1\" class=\"dataframe\">\n",
       "  <thead>\n",
       "    <tr style=\"text-align: right;\">\n",
       "      <th></th>\n",
       "      <th>Open</th>\n",
       "      <th>High</th>\n",
       "      <th>Low</th>\n",
       "      <th>Close</th>\n",
       "      <th>Volume</th>\n",
       "      <th>Market Cap</th>\n",
       "    </tr>\n",
       "    <tr>\n",
       "      <th>Timestamp</th>\n",
       "      <th></th>\n",
       "      <th></th>\n",
       "      <th></th>\n",
       "      <th></th>\n",
       "      <th></th>\n",
       "      <th></th>\n",
       "    </tr>\n",
       "  </thead>\n",
       "  <tbody>\n",
       "    <tr>\n",
       "      <th>2013-04-28</th>\n",
       "      <td>135.30</td>\n",
       "      <td>135.98</td>\n",
       "      <td>132.10</td>\n",
       "      <td>134.21</td>\n",
       "      <td>-</td>\n",
       "      <td>1,500,520,000</td>\n",
       "    </tr>\n",
       "    <tr>\n",
       "      <th>2013-04-29</th>\n",
       "      <td>134.44</td>\n",
       "      <td>147.49</td>\n",
       "      <td>134.00</td>\n",
       "      <td>144.54</td>\n",
       "      <td>-</td>\n",
       "      <td>1,491,160,000</td>\n",
       "    </tr>\n",
       "    <tr>\n",
       "      <th>2013-04-30</th>\n",
       "      <td>144.00</td>\n",
       "      <td>146.93</td>\n",
       "      <td>134.05</td>\n",
       "      <td>139.00</td>\n",
       "      <td>-</td>\n",
       "      <td>1,597,780,000</td>\n",
       "    </tr>\n",
       "    <tr>\n",
       "      <th>2013-05-01</th>\n",
       "      <td>139.00</td>\n",
       "      <td>139.89</td>\n",
       "      <td>107.72</td>\n",
       "      <td>116.99</td>\n",
       "      <td>-</td>\n",
       "      <td>1,542,820,000</td>\n",
       "    </tr>\n",
       "    <tr>\n",
       "      <th>2013-05-02</th>\n",
       "      <td>116.38</td>\n",
       "      <td>125.60</td>\n",
       "      <td>92.28</td>\n",
       "      <td>105.21</td>\n",
       "      <td>-</td>\n",
       "      <td>1,292,190,000</td>\n",
       "    </tr>\n",
       "  </tbody>\n",
       "</table>\n",
       "</div>"
      ],
      "text/plain": [
       "              Open    High     Low   Close Volume     Market Cap\n",
       "Timestamp                                                       \n",
       "2013-04-28  135.30  135.98  132.10  134.21      -  1,500,520,000\n",
       "2013-04-29  134.44  147.49  134.00  144.54      -  1,491,160,000\n",
       "2013-04-30  144.00  146.93  134.05  139.00      -  1,597,780,000\n",
       "2013-05-01  139.00  139.89  107.72  116.99      -  1,542,820,000\n",
       "2013-05-02  116.38  125.60   92.28  105.21      -  1,292,190,000"
      ]
     },
     "execution_count": 293,
     "metadata": {},
     "output_type": "execute_result"
    }
   ],
   "source": [
    "df.head()"
   ]
  },
  {
   "cell_type": "code",
   "execution_count": 294,
   "metadata": {},
   "outputs": [],
   "source": [
    "for col in df.columns:\n",
    "    if col == 'Volume' or col == 'Market Cap':\n",
    "        df[col] = df[col].apply(lambda x: filter(x))"
   ]
  },
  {
   "cell_type": "code",
   "execution_count": 295,
   "metadata": {},
   "outputs": [
    {
     "data": {
      "text/html": [
       "<div>\n",
       "<style scoped>\n",
       "    .dataframe tbody tr th:only-of-type {\n",
       "        vertical-align: middle;\n",
       "    }\n",
       "\n",
       "    .dataframe tbody tr th {\n",
       "        vertical-align: top;\n",
       "    }\n",
       "\n",
       "    .dataframe thead th {\n",
       "        text-align: right;\n",
       "    }\n",
       "</style>\n",
       "<table border=\"1\" class=\"dataframe\">\n",
       "  <thead>\n",
       "    <tr style=\"text-align: right;\">\n",
       "      <th></th>\n",
       "      <th>Open</th>\n",
       "      <th>High</th>\n",
       "      <th>Low</th>\n",
       "      <th>Close</th>\n",
       "      <th>Volume</th>\n",
       "      <th>Market Cap</th>\n",
       "    </tr>\n",
       "    <tr>\n",
       "      <th>Timestamp</th>\n",
       "      <th></th>\n",
       "      <th></th>\n",
       "      <th></th>\n",
       "      <th></th>\n",
       "      <th></th>\n",
       "      <th></th>\n",
       "    </tr>\n",
       "  </thead>\n",
       "  <tbody>\n",
       "    <tr>\n",
       "      <th>2013-04-28</th>\n",
       "      <td>135.30</td>\n",
       "      <td>135.98</td>\n",
       "      <td>132.10</td>\n",
       "      <td>134.21</td>\n",
       "      <td>NaN</td>\n",
       "      <td>1500520000</td>\n",
       "    </tr>\n",
       "    <tr>\n",
       "      <th>2013-04-29</th>\n",
       "      <td>134.44</td>\n",
       "      <td>147.49</td>\n",
       "      <td>134.00</td>\n",
       "      <td>144.54</td>\n",
       "      <td>NaN</td>\n",
       "      <td>1491160000</td>\n",
       "    </tr>\n",
       "    <tr>\n",
       "      <th>2013-04-30</th>\n",
       "      <td>144.00</td>\n",
       "      <td>146.93</td>\n",
       "      <td>134.05</td>\n",
       "      <td>139.00</td>\n",
       "      <td>NaN</td>\n",
       "      <td>1597780000</td>\n",
       "    </tr>\n",
       "    <tr>\n",
       "      <th>2013-05-01</th>\n",
       "      <td>139.00</td>\n",
       "      <td>139.89</td>\n",
       "      <td>107.72</td>\n",
       "      <td>116.99</td>\n",
       "      <td>NaN</td>\n",
       "      <td>1542820000</td>\n",
       "    </tr>\n",
       "    <tr>\n",
       "      <th>2013-05-02</th>\n",
       "      <td>116.38</td>\n",
       "      <td>125.60</td>\n",
       "      <td>92.28</td>\n",
       "      <td>105.21</td>\n",
       "      <td>NaN</td>\n",
       "      <td>1292190000</td>\n",
       "    </tr>\n",
       "  </tbody>\n",
       "</table>\n",
       "</div>"
      ],
      "text/plain": [
       "              Open    High     Low   Close  Volume  Market Cap\n",
       "Timestamp                                                     \n",
       "2013-04-28  135.30  135.98  132.10  134.21     NaN  1500520000\n",
       "2013-04-29  134.44  147.49  134.00  144.54     NaN  1491160000\n",
       "2013-04-30  144.00  146.93  134.05  139.00     NaN  1597780000\n",
       "2013-05-01  139.00  139.89  107.72  116.99     NaN  1542820000\n",
       "2013-05-02  116.38  125.60   92.28  105.21     NaN  1292190000"
      ]
     },
     "execution_count": 295,
     "metadata": {},
     "output_type": "execute_result"
    }
   ],
   "source": [
    "df.head()"
   ]
  },
  {
   "cell_type": "code",
   "execution_count": 296,
   "metadata": {},
   "outputs": [
    {
     "name": "stdout",
     "output_type": "stream",
     "text": [
      "<class 'pandas.core.frame.DataFrame'>\n",
      "DatetimeIndex: 1563 entries, 2013-04-28 to 2017-08-07\n",
      "Data columns (total 6 columns):\n",
      " #   Column      Non-Null Count  Dtype  \n",
      "---  ------      --------------  -----  \n",
      " 0   Open        1563 non-null   float64\n",
      " 1   High        1563 non-null   float64\n",
      " 2   Low         1563 non-null   float64\n",
      " 3   Close       1563 non-null   float64\n",
      " 4   Volume      1320 non-null   float64\n",
      " 5   Market Cap  1563 non-null   int64  \n",
      "dtypes: float64(5), int64(1)\n",
      "memory usage: 85.5 KB\n"
     ]
    }
   ],
   "source": [
    "df.info()"
   ]
  },
  {
   "cell_type": "markdown",
   "metadata": {},
   "source": [
    "Обработаем пропуски в данных"
   ]
  },
  {
   "cell_type": "code",
   "execution_count": 297,
   "metadata": {},
   "outputs": [
    {
     "data": {
      "text/plain": [
       "Open            0\n",
       "High            0\n",
       "Low             0\n",
       "Close           0\n",
       "Volume        243\n",
       "Market Cap      0\n",
       "dtype: int64"
      ]
     },
     "execution_count": 297,
     "metadata": {},
     "output_type": "execute_result"
    }
   ],
   "source": [
    "df.isna().sum()"
   ]
  },
  {
   "cell_type": "code",
   "execution_count": 298,
   "metadata": {},
   "outputs": [],
   "source": [
    "df.dropna(inplace=True)"
   ]
  },
  {
   "cell_type": "code",
   "execution_count": 299,
   "metadata": {},
   "outputs": [
    {
     "data": {
      "text/html": [
       "<div>\n",
       "<style scoped>\n",
       "    .dataframe tbody tr th:only-of-type {\n",
       "        vertical-align: middle;\n",
       "    }\n",
       "\n",
       "    .dataframe tbody tr th {\n",
       "        vertical-align: top;\n",
       "    }\n",
       "\n",
       "    .dataframe thead th {\n",
       "        text-align: right;\n",
       "    }\n",
       "</style>\n",
       "<table border=\"1\" class=\"dataframe\">\n",
       "  <thead>\n",
       "    <tr style=\"text-align: right;\">\n",
       "      <th></th>\n",
       "      <th>Open</th>\n",
       "      <th>High</th>\n",
       "      <th>Low</th>\n",
       "      <th>Close</th>\n",
       "      <th>Volume</th>\n",
       "      <th>Market Cap</th>\n",
       "    </tr>\n",
       "    <tr>\n",
       "      <th>Timestamp</th>\n",
       "      <th></th>\n",
       "      <th></th>\n",
       "      <th></th>\n",
       "      <th></th>\n",
       "      <th></th>\n",
       "      <th></th>\n",
       "    </tr>\n",
       "  </thead>\n",
       "  <tbody>\n",
       "    <tr>\n",
       "      <th>2013-12-27</th>\n",
       "      <td>763.28</td>\n",
       "      <td>777.51</td>\n",
       "      <td>713.60</td>\n",
       "      <td>735.07</td>\n",
       "      <td>46862700.0</td>\n",
       "      <td>9295570000</td>\n",
       "    </tr>\n",
       "    <tr>\n",
       "      <th>2013-12-28</th>\n",
       "      <td>737.98</td>\n",
       "      <td>747.06</td>\n",
       "      <td>705.35</td>\n",
       "      <td>727.83</td>\n",
       "      <td>32505800.0</td>\n",
       "      <td>8990850000</td>\n",
       "    </tr>\n",
       "    <tr>\n",
       "      <th>2013-12-29</th>\n",
       "      <td>728.05</td>\n",
       "      <td>748.61</td>\n",
       "      <td>714.44</td>\n",
       "      <td>745.05</td>\n",
       "      <td>19011300.0</td>\n",
       "      <td>8872600000</td>\n",
       "    </tr>\n",
       "    <tr>\n",
       "      <th>2013-12-30</th>\n",
       "      <td>741.35</td>\n",
       "      <td>766.60</td>\n",
       "      <td>740.24</td>\n",
       "      <td>756.13</td>\n",
       "      <td>20707700.0</td>\n",
       "      <td>9037000000</td>\n",
       "    </tr>\n",
       "    <tr>\n",
       "      <th>2013-12-31</th>\n",
       "      <td>760.32</td>\n",
       "      <td>760.58</td>\n",
       "      <td>738.17</td>\n",
       "      <td>754.01</td>\n",
       "      <td>20897300.0</td>\n",
       "      <td>9268240000</td>\n",
       "    </tr>\n",
       "  </tbody>\n",
       "</table>\n",
       "</div>"
      ],
      "text/plain": [
       "              Open    High     Low   Close      Volume  Market Cap\n",
       "Timestamp                                                         \n",
       "2013-12-27  763.28  777.51  713.60  735.07  46862700.0  9295570000\n",
       "2013-12-28  737.98  747.06  705.35  727.83  32505800.0  8990850000\n",
       "2013-12-29  728.05  748.61  714.44  745.05  19011300.0  8872600000\n",
       "2013-12-30  741.35  766.60  740.24  756.13  20707700.0  9037000000\n",
       "2013-12-31  760.32  760.58  738.17  754.01  20897300.0  9268240000"
      ]
     },
     "execution_count": 299,
     "metadata": {},
     "output_type": "execute_result"
    }
   ],
   "source": [
    "df.head()"
   ]
  },
  {
   "cell_type": "markdown",
   "metadata": {},
   "source": [
    "анализ временного ряда"
   ]
  },
  {
   "cell_type": "code",
   "execution_count": 300,
   "metadata": {},
   "outputs": [
    {
     "data": {
      "text/plain": [
       "<AxesSubplot:xlabel='Date'>"
      ]
     },
     "execution_count": 300,
     "metadata": {},
     "output_type": "execute_result"
    },
    {
     "data": {
      "image/png": "[encoded data removed]",
      "text/plain": [
       "<Figure size 1500x500 with 1 Axes>"
      ]
     },
     "metadata": {},
     "output_type": "display_data"
    }
   ],
   "source": [
    "df_train.Open.plot()"
   ]
  },
  {
   "cell_type": "markdown",
   "metadata": {},
   "source": [
    "При  помощи теста Дики-Фуллера проверяют значение коэффициента а. \n",
    "$y_{t}=a\\cdot y_{{t-1}}+\\varepsilon _{t}$, где $y_{t}$ — временной \n",
    "ряд, а $\\varepsilon$  — ошибка.\n",
    "Если a=1, то процесс имеет единичный корень, в этом случае ряд $y_{t}$ не стационарен.  Если \n",
    "|a|<1, то ряд стационарный "
   ]
  },
  {
   "cell_type": "code",
   "execution_count": 301,
   "metadata": {},
   "outputs": [
    {
     "name": "stdout",
     "output_type": "stream",
     "text": [
      "Ряд не стационарный\n"
     ]
    }
   ],
   "source": [
    "p = adfuller(df.Open)[1]\n",
    "\n",
    "alpha = 0.05\n",
    "if p > alpha:\n",
    "    print('Ряд не стационарный')\n",
    "else:\n",
    "    print('Ряд стационарный')"
   ]
  },
  {
   "cell_type": "markdown",
   "metadata": {},
   "source": [
    "разложим ряд на компоненты"
   ]
  },
  {
   "cell_type": "code",
   "execution_count": 302,
   "metadata": {},
   "outputs": [
    {
     "data": {
      "image/png": "[encoded data removed]",
      "text/plain": [
       "<Figure size 1500x500 with 4 Axes>"
      ]
     },
     "metadata": {},
     "output_type": "display_data"
    }
   ],
   "source": [
    "res = sm.tsa.seasonal_decompose(df_train.Open)\n",
    "plt.rc('figure', figsize=(15,5))\n",
    "resplot=res.plot()"
   ]
  },
  {
   "cell_type": "markdown",
   "metadata": {},
   "source": [
    "создадим лаговые признаки и посмотрим на автокорреляцию"
   ]
  },
  {
   "cell_type": "code",
   "execution_count": 303,
   "metadata": {},
   "outputs": [
    {
     "data": {
      "text/plain": [
       "array([1.        , 0.9897075 , 0.97926711, 0.97102444, 0.96330853,\n",
       "       0.95625161, 0.94920757, 0.9414433 , 0.93455197, 0.92766612,\n",
       "       0.92042467, 0.91396383, 0.90818452, 0.90228391, 0.8954247 ,\n",
       "       0.88807916, 0.88014149, 0.8723687 , 0.86334897, 0.85751814,\n",
       "       0.85099277, 0.8451787 , 0.84193847, 0.8383165 , 0.83326673,\n",
       "       0.82776124, 0.82206723, 0.81712478, 0.81165366, 0.80506745,\n",
       "       0.79821233, 0.7912366 , 0.78319227, 0.77521905, 0.76697757,\n",
       "       0.75898214, 0.75180035, 0.74544286, 0.73841577, 0.73165736,\n",
       "       0.72485242, 0.71843901, 0.71208217, 0.70488071, 0.69787337,\n",
       "       0.6897094 , 0.68163326, 0.67375547, 0.66553837, 0.65809479,\n",
       "       0.65067964])"
      ]
     },
     "execution_count": 303,
     "metadata": {},
     "output_type": "execute_result"
    }
   ],
   "source": [
    "sm.tsa.acf(df.Open, nlags=50)"
   ]
  },
  {
   "cell_type": "code",
   "execution_count": 304,
   "metadata": {},
   "outputs": [],
   "source": [
    "a = sm.tsa.acf(df.Open, nlags=50)"
   ]
  },
  {
   "cell_type": "code",
   "execution_count": 305,
   "metadata": {},
   "outputs": [
    {
     "data": {
      "text/plain": [
       "14"
      ]
     },
     "execution_count": 305,
     "metadata": {},
     "output_type": "execute_result"
    }
   ],
   "source": [
    "(a >= 0.9).sum()"
   ]
  },
  {
   "cell_type": "markdown",
   "metadata": {},
   "source": [
    "Возьмем информацию за 14 предыдущих дней"
   ]
  },
  {
   "cell_type": "code",
   "execution_count": 306,
   "metadata": {},
   "outputs": [],
   "source": [
    "for i in range(6, 20):\n",
    "    df[f'lag_{i}'] = df.Open.shift(i)\n",
    "\n",
    "df.dropna(inplace=True)"
   ]
  },
  {
   "cell_type": "code",
   "execution_count": 307,
   "metadata": {},
   "outputs": [],
   "source": [
    "y, X = df.Open, df.drop(['Open'], axis=1)\n",
    "X_train, X_test = X[:X.shape[0]-7], X[X.shape[0]-7:]\n",
    "y_train, y_test = y[:y.shape[0]-7], y[y.shape[0]-7:]"
   ]
  },
  {
   "cell_type": "code",
   "execution_count": 308,
   "metadata": {},
   "outputs": [],
   "source": [
    "models = [LinearRegression(), linear_model.Lasso(), linear_model.Ridge(), DecisionTreeRegressor(random_state=1), SVR(), GradientBoostingRegressor(), RandomForestRegressor(random_state=1)]"
   ]
  },
  {
   "cell_type": "code",
   "execution_count": 309,
   "metadata": {},
   "outputs": [
    {
     "name": "stderr",
     "output_type": "stream",
     "text": [
      "c:\\Users\\Vitaliy\\AppData\\Local\\Programs\\Python\\Python37\\lib\\site-packages\\sklearn\\linear_model\\_coordinate_descent.py:648: ConvergenceWarning: Objective did not converge. You might want to increase the number of iterations, check the scale of the features or consider increasing regularisation. Duality gap: 1.768e+05, tolerance: 3.749e+04\n",
      "  coef_, l1_reg, l2_reg, X, y, max_iter, tol, rng, random, positive\n",
      "c:\\Users\\Vitaliy\\AppData\\Local\\Programs\\Python\\Python37\\lib\\site-packages\\sklearn\\linear_model\\_ridge.py:157: LinAlgWarning: Ill-conditioned matrix (rcond=1.53792e-18): result may not be accurate.\n",
      "  return linalg.solve(A, Xy, sym_pos=True, overwrite_a=True).T\n"
     ]
    },
    {
     "name": "stdout",
     "output_type": "stream",
     "text": [
      "Минимальный mae = 32.80572344596534\n",
      "Показала модель Lasso()\n"
     ]
    }
   ],
   "source": [
    "score = []\n",
    "for model in models:\n",
    "    model.fit(X_train, y_train)\n",
    "    pred = model.predict(X_test)\n",
    "    score.append(mae(pred, y_test))\n",
    "\n",
    "score = np.array(score)\n",
    "print(f'Минимальный mae = {np.min(score)}\\nПоказала модель {models[np.argmin(score)]}')"
   ]
  },
  {
   "cell_type": "code",
   "execution_count": 310,
   "metadata": {},
   "outputs": [
    {
     "data": {
      "text/plain": [
       "array([  37.76479819,   32.80572345,   37.76470676,   94.80857143,\n",
       "       2242.48499852,   93.51652416,  107.13232857])"
      ]
     },
     "execution_count": 310,
     "metadata": {},
     "output_type": "execute_result"
    }
   ],
   "source": [
    "score"
   ]
  },
  {
   "cell_type": "markdown",
   "metadata": {},
   "source": [
    "попробуем добавить новый признак - среднюю стоимость для каждого дня, месяца"
   ]
  },
  {
   "cell_type": "markdown",
   "metadata": {},
   "source": [
    "Объединим train и test и выполним преобразоание по отдельности, чтобы избежать утечки данных"
   ]
  },
  {
   "cell_type": "code",
   "execution_count": 311,
   "metadata": {},
   "outputs": [],
   "source": [
    "train = pd.concat([X_train, y_train], axis = 1)\n",
    "test = pd.concat([X_test, y_test], axis = 1)"
   ]
  },
  {
   "cell_type": "code",
   "execution_count": 312,
   "metadata": {},
   "outputs": [],
   "source": [
    "def func(x, dt):\n",
    "    return round(dt[x], 2)"
   ]
  },
  {
   "cell_type": "code",
   "execution_count": 313,
   "metadata": {},
   "outputs": [],
   "source": [
    "d = dict(train.Open.groupby(train.index.day).mean())"
   ]
  },
  {
   "cell_type": "code",
   "execution_count": 314,
   "metadata": {},
   "outputs": [],
   "source": [
    "for data in [train, test]:\n",
    "    d = dict(data.Open.groupby(data.index.day).mean())\n",
    "    m = dict(data.Open.groupby(data.index.month).mean())\n",
    "\n",
    "    data['day'] = data.index.day\n",
    "    data['month'] = data.index.month\n",
    "\n",
    "    data.day = data.day.apply(lambda x: func(x, d))\n",
    "    data.month = data.month.apply(lambda x: func(x, m))"
   ]
  },
  {
   "cell_type": "code",
   "execution_count": 315,
   "metadata": {},
   "outputs": [],
   "source": [
    "y_train, X_train = train.Open, train.drop(['Open'], axis=1)\n",
    "y_test, X_test = test.Open, test.drop(['Open'], axis=1)"
   ]
  },
  {
   "cell_type": "code",
   "execution_count": 316,
   "metadata": {},
   "outputs": [
    {
     "data": {
      "text/html": [
       "<div>\n",
       "<style scoped>\n",
       "    .dataframe tbody tr th:only-of-type {\n",
       "        vertical-align: middle;\n",
       "    }\n",
       "\n",
       "    .dataframe tbody tr th {\n",
       "        vertical-align: top;\n",
       "    }\n",
       "\n",
       "    .dataframe thead th {\n",
       "        text-align: right;\n",
       "    }\n",
       "</style>\n",
       "<table border=\"1\" class=\"dataframe\">\n",
       "  <thead>\n",
       "    <tr style=\"text-align: right;\">\n",
       "      <th></th>\n",
       "      <th>High</th>\n",
       "      <th>Low</th>\n",
       "      <th>Close</th>\n",
       "      <th>Volume</th>\n",
       "      <th>Market Cap</th>\n",
       "      <th>lag_6</th>\n",
       "      <th>lag_7</th>\n",
       "      <th>lag_8</th>\n",
       "      <th>lag_9</th>\n",
       "      <th>lag_10</th>\n",
       "      <th>...</th>\n",
       "      <th>lag_12</th>\n",
       "      <th>lag_13</th>\n",
       "      <th>lag_14</th>\n",
       "      <th>lag_15</th>\n",
       "      <th>lag_16</th>\n",
       "      <th>lag_17</th>\n",
       "      <th>lag_18</th>\n",
       "      <th>lag_19</th>\n",
       "      <th>day</th>\n",
       "      <th>month</th>\n",
       "    </tr>\n",
       "    <tr>\n",
       "      <th>Timestamp</th>\n",
       "      <th></th>\n",
       "      <th></th>\n",
       "      <th></th>\n",
       "      <th></th>\n",
       "      <th></th>\n",
       "      <th></th>\n",
       "      <th></th>\n",
       "      <th></th>\n",
       "      <th></th>\n",
       "      <th></th>\n",
       "      <th></th>\n",
       "      <th></th>\n",
       "      <th></th>\n",
       "      <th></th>\n",
       "      <th></th>\n",
       "      <th></th>\n",
       "      <th></th>\n",
       "      <th></th>\n",
       "      <th></th>\n",
       "      <th></th>\n",
       "      <th></th>\n",
       "    </tr>\n",
       "  </thead>\n",
       "  <tbody>\n",
       "    <tr>\n",
       "      <th>2014-01-15</th>\n",
       "      <td>872.81</td>\n",
       "      <td>830.86</td>\n",
       "      <td>860.90</td>\n",
       "      <td>28107200.0</td>\n",
       "      <td>10216700000</td>\n",
       "      <td>841.47</td>\n",
       "      <td>795.99</td>\n",
       "      <td>946.49</td>\n",
       "      <td>936.05</td>\n",
       "      <td>858.55</td>\n",
       "      <td>...</td>\n",
       "      <td>802.85</td>\n",
       "      <td>773.44</td>\n",
       "      <td>754.97</td>\n",
       "      <td>760.32</td>\n",
       "      <td>741.35</td>\n",
       "      <td>728.05</td>\n",
       "      <td>737.98</td>\n",
       "      <td>763.28</td>\n",
       "      <td>631.11</td>\n",
       "      <td>574.37</td>\n",
       "    </tr>\n",
       "    <tr>\n",
       "      <th>2014-01-16</th>\n",
       "      <td>866.16</td>\n",
       "      <td>835.63</td>\n",
       "      <td>835.63</td>\n",
       "      <td>19149300.0</td>\n",
       "      <td>10553800000</td>\n",
       "      <td>846.69</td>\n",
       "      <td>841.47</td>\n",
       "      <td>795.99</td>\n",
       "      <td>946.49</td>\n",
       "      <td>936.05</td>\n",
       "      <td>...</td>\n",
       "      <td>823.27</td>\n",
       "      <td>802.85</td>\n",
       "      <td>773.44</td>\n",
       "      <td>754.97</td>\n",
       "      <td>760.32</td>\n",
       "      <td>741.35</td>\n",
       "      <td>728.05</td>\n",
       "      <td>737.98</td>\n",
       "      <td>624.57</td>\n",
       "      <td>574.37</td>\n",
       "    </tr>\n",
       "    <tr>\n",
       "      <th>2014-01-17</th>\n",
       "      <td>842.91</td>\n",
       "      <td>797.63</td>\n",
       "      <td>814.64</td>\n",
       "      <td>39031700.0</td>\n",
       "      <td>10241200000</td>\n",
       "      <td>867.32</td>\n",
       "      <td>846.69</td>\n",
       "      <td>841.47</td>\n",
       "      <td>795.99</td>\n",
       "      <td>946.49</td>\n",
       "      <td>...</td>\n",
       "      <td>858.55</td>\n",
       "      <td>823.27</td>\n",
       "      <td>802.85</td>\n",
       "      <td>773.44</td>\n",
       "      <td>754.97</td>\n",
       "      <td>760.32</td>\n",
       "      <td>741.35</td>\n",
       "      <td>728.05</td>\n",
       "      <td>625.28</td>\n",
       "      <td>574.37</td>\n",
       "    </tr>\n",
       "    <tr>\n",
       "      <th>2014-01-18</th>\n",
       "      <td>841.49</td>\n",
       "      <td>816.07</td>\n",
       "      <td>840.00</td>\n",
       "      <td>18052700.0</td>\n",
       "      <td>10018200000</td>\n",
       "      <td>919.60</td>\n",
       "      <td>867.32</td>\n",
       "      <td>846.69</td>\n",
       "      <td>841.47</td>\n",
       "      <td>795.99</td>\n",
       "      <td>...</td>\n",
       "      <td>936.05</td>\n",
       "      <td>858.55</td>\n",
       "      <td>823.27</td>\n",
       "      <td>802.85</td>\n",
       "      <td>773.44</td>\n",
       "      <td>754.97</td>\n",
       "      <td>760.32</td>\n",
       "      <td>741.35</td>\n",
       "      <td>637.01</td>\n",
       "      <td>574.37</td>\n",
       "    </tr>\n",
       "    <tr>\n",
       "      <th>2014-01-19</th>\n",
       "      <td>870.96</td>\n",
       "      <td>825.53</td>\n",
       "      <td>870.96</td>\n",
       "      <td>24365700.0</td>\n",
       "      <td>10311500000</td>\n",
       "      <td>860.19</td>\n",
       "      <td>919.60</td>\n",
       "      <td>867.32</td>\n",
       "      <td>846.69</td>\n",
       "      <td>841.47</td>\n",
       "      <td>...</td>\n",
       "      <td>946.49</td>\n",
       "      <td>936.05</td>\n",
       "      <td>858.55</td>\n",
       "      <td>823.27</td>\n",
       "      <td>802.85</td>\n",
       "      <td>773.44</td>\n",
       "      <td>754.97</td>\n",
       "      <td>760.32</td>\n",
       "      <td>632.67</td>\n",
       "      <td>574.37</td>\n",
       "    </tr>\n",
       "  </tbody>\n",
       "</table>\n",
       "<p>5 rows × 21 columns</p>\n",
       "</div>"
      ],
      "text/plain": [
       "              High     Low   Close      Volume   Market Cap   lag_6   lag_7  \\\n",
       "Timestamp                                                                     \n",
       "2014-01-15  872.81  830.86  860.90  28107200.0  10216700000  841.47  795.99   \n",
       "2014-01-16  866.16  835.63  835.63  19149300.0  10553800000  846.69  841.47   \n",
       "2014-01-17  842.91  797.63  814.64  39031700.0  10241200000  867.32  846.69   \n",
       "2014-01-18  841.49  816.07  840.00  18052700.0  10018200000  919.60  867.32   \n",
       "2014-01-19  870.96  825.53  870.96  24365700.0  10311500000  860.19  919.60   \n",
       "\n",
       "             lag_8   lag_9  lag_10  ...  lag_12  lag_13  lag_14  lag_15  \\\n",
       "Timestamp                           ...                                   \n",
       "2014-01-15  946.49  936.05  858.55  ...  802.85  773.44  754.97  760.32   \n",
       "2014-01-16  795.99  946.49  936.05  ...  823.27  802.85  773.44  754.97   \n",
       "2014-01-17  841.47  795.99  946.49  ...  858.55  823.27  802.85  773.44   \n",
       "2014-01-18  846.69  841.47  795.99  ...  936.05  858.55  823.27  802.85   \n",
       "2014-01-19  867.32  846.69  841.47  ...  946.49  936.05  858.55  823.27   \n",
       "\n",
       "            lag_16  lag_17  lag_18  lag_19     day   month  \n",
       "Timestamp                                                   \n",
       "2014-01-15  741.35  728.05  737.98  763.28  631.11  574.37  \n",
       "2014-01-16  760.32  741.35  728.05  737.98  624.57  574.37  \n",
       "2014-01-17  754.97  760.32  741.35  728.05  625.28  574.37  \n",
       "2014-01-18  773.44  754.97  760.32  741.35  637.01  574.37  \n",
       "2014-01-19  802.85  773.44  754.97  760.32  632.67  574.37  \n",
       "\n",
       "[5 rows x 21 columns]"
      ]
     },
     "execution_count": 316,
     "metadata": {},
     "output_type": "execute_result"
    }
   ],
   "source": [
    "X_train.head()"
   ]
  },
  {
   "cell_type": "code",
   "execution_count": 317,
   "metadata": {},
   "outputs": [
    {
     "name": "stderr",
     "output_type": "stream",
     "text": [
      "c:\\Users\\Vitaliy\\AppData\\Local\\Programs\\Python\\Python37\\lib\\site-packages\\sklearn\\linear_model\\_coordinate_descent.py:648: ConvergenceWarning: Objective did not converge. You might want to increase the number of iterations, check the scale of the features or consider increasing regularisation. Duality gap: 1.755e+05, tolerance: 3.749e+04\n",
      "  coef_, l1_reg, l2_reg, X, y, max_iter, tol, rng, random, positive\n",
      "c:\\Users\\Vitaliy\\AppData\\Local\\Programs\\Python\\Python37\\lib\\site-packages\\sklearn\\linear_model\\_ridge.py:157: LinAlgWarning: Ill-conditioned matrix (rcond=1.50475e-18): result may not be accurate.\n",
      "  return linalg.solve(A, Xy, sym_pos=True, overwrite_a=True).T\n"
     ]
    },
    {
     "name": "stdout",
     "output_type": "stream",
     "text": [
      "Минимальный mae = 33.4115839936494\n",
      "Показала модель LinearRegression()\n"
     ]
    }
   ],
   "source": [
    "score = []\n",
    "for model in models:\n",
    "    model.fit(X_train, y_train)\n",
    "    pred = model.predict(X_test)\n",
    "    score.append(mae(pred, y_test))\n",
    "\n",
    "score = np.array(score)\n",
    "print(f'Минимальный mae = {np.min(score)}\\nПоказала модель {models[np.argmin(score)]}')"
   ]
  },
  {
   "cell_type": "code",
   "execution_count": 318,
   "metadata": {},
   "outputs": [
    {
     "data": {
      "text/plain": [
       "array([  33.41158399,   43.71159247,   33.41162706,   93.75428571,\n",
       "       2242.58356127,   93.36243337,  114.79      ])"
      ]
     },
     "execution_count": 318,
     "metadata": {},
     "output_type": "execute_result"
    }
   ],
   "source": [
    "score"
   ]
  },
  {
   "cell_type": "markdown",
   "metadata": {},
   "source": [
    "качество ухудшилось, посмотрим на коэффиценеты линейной регрессии с l1 регуляризатором"
   ]
  },
  {
   "cell_type": "code",
   "execution_count": 319,
   "metadata": {},
   "outputs": [
    {
     "name": "stderr",
     "output_type": "stream",
     "text": [
      "c:\\Users\\Vitaliy\\AppData\\Local\\Programs\\Python\\Python37\\lib\\site-packages\\sklearn\\linear_model\\_coordinate_descent.py:648: ConvergenceWarning: Objective did not converge. You might want to increase the number of iterations, check the scale of the features or consider increasing regularisation. Duality gap: 1.755e+05, tolerance: 3.749e+04\n",
      "  coef_, l1_reg, l2_reg, X, y, max_iter, tol, rng, random, positive\n"
     ]
    },
    {
     "data": {
      "text/plain": [
       "array([ 7.50638439e-01,  4.00132649e-01, -4.09590969e-01, -4.72192913e-08,\n",
       "        1.30105489e-08,  6.34900669e-02, -6.57028350e-02,  6.58692523e-02,\n",
       "        7.61002583e-03, -2.56620465e-02,  1.24069196e-02,  5.81286005e-02,\n",
       "       -1.19031052e-01,  1.71256606e-02,  2.76595687e-02, -3.06855138e-02,\n",
       "        5.11201337e-02,  3.10026177e-02, -3.95252733e-02,  1.31153756e-02,\n",
       "        9.05253755e-03])"
      ]
     },
     "execution_count": 319,
     "metadata": {},
     "output_type": "execute_result"
    }
   ],
   "source": [
    "model = linear_model.Lasso()\n",
    "model.fit(X_train, y_train)\n",
    "model.coef_"
   ]
  },
  {
   "cell_type": "markdown",
   "metadata": {},
   "source": [
    "Получили хуже результат. Глядя на коэффициенты линейой регрессии попробуем оставить только среднее занчение по дням"
   ]
  },
  {
   "cell_type": "code",
   "execution_count": 320,
   "metadata": {},
   "outputs": [],
   "source": [
    "X_train = X_train.drop(['month'], axis=1)\n",
    "X_test = X_test.drop(['month'], axis=1)"
   ]
  },
  {
   "cell_type": "code",
   "execution_count": 321,
   "metadata": {},
   "outputs": [
    {
     "name": "stderr",
     "output_type": "stream",
     "text": [
      "c:\\Users\\Vitaliy\\AppData\\Local\\Programs\\Python\\Python37\\lib\\site-packages\\sklearn\\linear_model\\_coordinate_descent.py:648: ConvergenceWarning: Objective did not converge. You might want to increase the number of iterations, check the scale of the features or consider increasing regularisation. Duality gap: 1.768e+05, tolerance: 3.749e+04\n",
      "  coef_, l1_reg, l2_reg, X, y, max_iter, tol, rng, random, positive\n",
      "c:\\Users\\Vitaliy\\AppData\\Local\\Programs\\Python\\Python37\\lib\\site-packages\\sklearn\\linear_model\\_ridge.py:157: LinAlgWarning: Ill-conditioned matrix (rcond=1.50955e-18): result may not be accurate.\n",
      "  return linalg.solve(A, Xy, sym_pos=True, overwrite_a=True).T\n"
     ]
    },
    {
     "name": "stdout",
     "output_type": "stream",
     "text": [
      "Минимальный mae = 31.54071492303092\n",
      "Показала модель Lasso()\n"
     ]
    }
   ],
   "source": [
    "score = []\n",
    "for model in models:\n",
    "    model.fit(X_train, y_train)\n",
    "    pred = model.predict(X_test)\n",
    "    score.append(mae(pred, y_test))\n",
    "\n",
    "score = np.array(score)\n",
    "print(f'Минимальный mae = {np.min(score)}\\nПоказала модель {models[np.argmin(score)]}')"
   ]
  },
  {
   "cell_type": "code",
   "execution_count": 322,
   "metadata": {},
   "outputs": [
    {
     "data": {
      "text/plain": [
       "array([  32.66800812,   31.54071492,   32.66794488,   96.94285714,\n",
       "       2242.52277696,   92.4755332 ,  110.32014286])"
      ]
     },
     "execution_count": 322,
     "metadata": {},
     "output_type": "execute_result"
    }
   ],
   "source": [
    "score"
   ]
  },
  {
   "cell_type": "markdown",
   "metadata": {},
   "source": [
    "Отлично, теперь попробуем избавиться от признака с близким к нулю весом"
   ]
  },
  {
   "cell_type": "code",
   "execution_count": 323,
   "metadata": {},
   "outputs": [],
   "source": [
    "X_train = X_train.drop(['Volume'], axis=1)\n",
    "X_test = X_test.drop(['Volume'], axis=1)"
   ]
  },
  {
   "cell_type": "code",
   "execution_count": 324,
   "metadata": {},
   "outputs": [],
   "source": [
    "X_train2 = X_train.drop(['Market Cap'], axis=1)\n",
    "X_test2 = X_test.drop(['Market Cap'], axis=1)"
   ]
  },
  {
   "cell_type": "code",
   "execution_count": 325,
   "metadata": {},
   "outputs": [
    {
     "name": "stderr",
     "output_type": "stream",
     "text": [
      "c:\\Users\\Vitaliy\\AppData\\Local\\Programs\\Python\\Python37\\lib\\site-packages\\sklearn\\linear_model\\_coordinate_descent.py:648: ConvergenceWarning: Objective did not converge. You might want to increase the number of iterations, check the scale of the features or consider increasing regularisation. Duality gap: 1.890e+05, tolerance: 3.749e+04\n",
      "  coef_, l1_reg, l2_reg, X, y, max_iter, tol, rng, random, positive\n"
     ]
    },
    {
     "name": "stdout",
     "output_type": "stream",
     "text": [
      "Минимальный mae = 41.68065714966094\n",
      "Показала модель Ridge()\n"
     ]
    }
   ],
   "source": [
    "score = []\n",
    "for model in models:\n",
    "    model.fit(X_train2, y_train)\n",
    "    pred = model.predict(X_test2)\n",
    "    score.append(mae(pred, y_test))\n",
    "\n",
    "score = np.array(score)\n",
    "print(f'Минимальный mae = {np.min(score)}\\nПоказала модель {models[np.argmin(score)]}')"
   ]
  },
  {
   "cell_type": "markdown",
   "metadata": {},
   "source": [
    "Оказалось немного хуже"
   ]
  },
  {
   "cell_type": "markdown",
   "metadata": {},
   "source": [
    "Попробоуем экспоненциальное сглаживание"
   ]
  },
  {
   "cell_type": "code",
   "execution_count": 229,
   "metadata": {},
   "outputs": [],
   "source": [
    "from statsmodels.tsa.api import ExponentialSmoothing,  Holt"
   ]
  },
  {
   "cell_type": "markdown",
   "metadata": {},
   "source": [
    "двойное экспоненциальное сглаживание"
   ]
  },
  {
   "cell_type": "code",
   "execution_count": 261,
   "metadata": {},
   "outputs": [
    {
     "name": "stderr",
     "output_type": "stream",
     "text": [
      "c:\\Users\\Vitaliy\\AppData\\Local\\Programs\\Python\\Python37\\lib\\site-packages\\statsmodels\\tsa\\base\\tsa_model.py:471: ValueWarning: No frequency information was provided, so inferred frequency D will be used.\n",
      "  self._init_dates(dates, freq)\n"
     ]
    },
    {
     "data": {
      "text/plain": [
       "147.51276808665793"
      ]
     },
     "execution_count": 261,
     "metadata": {},
     "output_type": "execute_result"
    }
   ],
   "source": [
    "model = Holt(y_train, initialization_method='estimated').fit(smoothing_level = 0.8, smoothing_trend=0.3)\n",
    "pred = model.forecast(7)\n",
    "mae(pred, y_test)"
   ]
  },
  {
   "cell_type": "markdown",
   "metadata": {},
   "source": [
    "тройное экспоненциальное сглаживание"
   ]
  },
  {
   "cell_type": "code",
   "execution_count": 264,
   "metadata": {},
   "outputs": [
    {
     "name": "stderr",
     "output_type": "stream",
     "text": [
      "c:\\Users\\Vitaliy\\AppData\\Local\\Programs\\Python\\Python37\\lib\\site-packages\\statsmodels\\tsa\\base\\tsa_model.py:471: ValueWarning: No frequency information was provided, so inferred frequency D will be used.\n",
      "  self._init_dates(dates, freq)\n"
     ]
    },
    {
     "data": {
      "text/plain": [
       "154.15849935932542"
      ]
     },
     "execution_count": 264,
     "metadata": {},
     "output_type": "execute_result"
    }
   ],
   "source": [
    "model = ExponentialSmoothing(y_train,  trend='mul', seasonal='add',  initialization_method='estimated').fit()\n",
    "pred = model.forecast(7)\n",
    "mae(pred, y_test)"
   ]
  },
  {
   "cell_type": "markdown",
   "metadata": {},
   "source": [
    "тройное экспоненциальное сглаживание с затухающим трендом"
   ]
  },
  {
   "cell_type": "code",
   "execution_count": 267,
   "metadata": {},
   "outputs": [
    {
     "name": "stderr",
     "output_type": "stream",
     "text": [
      "c:\\Users\\Vitaliy\\AppData\\Local\\Programs\\Python\\Python37\\lib\\site-packages\\statsmodels\\tsa\\base\\tsa_model.py:471: ValueWarning: No frequency information was provided, so inferred frequency D will be used.\n",
      "  self._init_dates(dates, freq)\n"
     ]
    },
    {
     "data": {
      "text/plain": [
       "160.1357312946146"
      ]
     },
     "execution_count": 267,
     "metadata": {},
     "output_type": "execute_result"
    }
   ],
   "source": [
    "model = ExponentialSmoothing(y_train, damped_trend=True, trend='mul', seasonal='add',  initialization_method='estimated').fit()\n",
    "pred = model.forecast(7)\n",
    "mae(pred, y_test)"
   ]
  },
  {
   "cell_type": "markdown",
   "metadata": {},
   "source": [
    "попробуем нейросети"
   ]
  },
  {
   "cell_type": "code",
   "execution_count": 5,
   "metadata": {},
   "outputs": [],
   "source": [
    "import torch"
   ]
  },
  {
   "cell_type": "code",
   "execution_count": 6,
   "metadata": {},
   "outputs": [
    {
     "data": {
      "text/plain": [
       "Date\n",
       "2013-04-28     135.30\n",
       "2013-04-29     134.44\n",
       "2013-04-30     144.00\n",
       "2013-05-01     139.00\n",
       "2013-05-02     116.38\n",
       "               ...   \n",
       "2017-07-27    2538.71\n",
       "2017-07-28    2679.73\n",
       "2017-07-29    2807.02\n",
       "2017-07-30    2724.39\n",
       "2017-07-31    2763.24\n",
       "Name: Open, Length: 1556, dtype: float64"
      ]
     },
     "execution_count": 6,
     "metadata": {},
     "output_type": "execute_result"
    }
   ],
   "source": [
    "data = pd.read_csv(\"C:\\\\Users\\\\Vitaliy\\\\OneDrive\\\\Рабочий стол\\\\предсказание биткоина\\\\bitcoin_price_Training - Training.csv\", sep=',', parse_dates=True, index_col='Date')\n",
    "data = data.Open.sort_index()\n",
    "data"
   ]
  },
  {
   "cell_type": "code",
   "execution_count": 7,
   "metadata": {},
   "outputs": [
    {
     "data": {
      "text/plain": [
       "Date\n",
       "2017-08-01    2871.30\n",
       "2017-08-02    2727.13\n",
       "2017-08-03    2709.56\n",
       "2017-08-04    2806.93\n",
       "2017-08-05    2897.63\n",
       "2017-08-06    3257.61\n",
       "2017-08-07    3212.78\n",
       "Name: Open, dtype: float64"
      ]
     },
     "execution_count": 7,
     "metadata": {},
     "output_type": "execute_result"
    }
   ],
   "source": [
    "data2 = pd.read_csv(\"C:\\\\Users\\\\Vitaliy\\\\OneDrive\\\\Рабочий стол\\\\предсказание биткоина\\\\bitcoin_price_1week_Test - Test.csv\", sep=',', parse_dates=True, index_col='Date')\n",
    "data2 = data2.Open.sort_index()\n",
    "data2"
   ]
  },
  {
   "cell_type": "code",
   "execution_count": 8,
   "metadata": {},
   "outputs": [],
   "source": [
    "data = pd.concat([data, data2], axis=0)\n",
    "data = torch.FloatTensor(data)"
   ]
  },
  {
   "cell_type": "code",
   "execution_count": 9,
   "metadata": {},
   "outputs": [
    {
     "data": {
      "text/plain": [
       "torch.Size([1563])"
      ]
     },
     "execution_count": 9,
     "metadata": {},
     "output_type": "execute_result"
    }
   ],
   "source": [
    "data.shape"
   ]
  },
  {
   "cell_type": "code",
   "execution_count": 10,
   "metadata": {},
   "outputs": [],
   "source": [
    "train = []\n",
    "lag = 14\n",
    "pred = 7\n",
    "for i in range(lag, len(data)-pred):\n",
    "    train.append(tuple([data[i-lag:i], data[i+pred-1]]))"
   ]
  },
  {
   "cell_type": "code",
   "execution_count": 11,
   "metadata": {},
   "outputs": [],
   "source": [
    "test = train[len(train)-7:]\n",
    "train = train[:len(train)-7]"
   ]
  },
  {
   "cell_type": "markdown",
   "metadata": {},
   "source": [
    "определим модель, будем использовать рекуррентную сеть LSTM"
   ]
  },
  {
   "cell_type": "markdown",
   "metadata": {},
   "source": [
    "![title](1.png)"
   ]
  },
  {
   "cell_type": "code",
   "execution_count": 17,
   "metadata": {},
   "outputs": [],
   "source": [
    "class Model(nn.Module):\n",
    "    def __init__(self, input_size=1, hidden_layer_size=100, output_size=1):\n",
    "        super().__init__()\n",
    "\n",
    "        self.hidden_layer_size = hidden_layer_size\n",
    "        self.lstm = nn.LSTM(input_size, hidden_layer_size)\n",
    "        self.linear = nn.Linear(hidden_layer_size, output_size)\n",
    "        self.h0 = (torch.Tensor(np.random.normal(0, 1, (1,1,self.hidden_layer_size))), torch.Tensor(np.random.normal(0, 1, (1,1,self.hidden_layer_size))))\n",
    "        self.relu = nn.ReLU()\n",
    "\n",
    "    def forward(self, inp):\n",
    "        out, _ = self.lstm(inp.view(len(inp), 1, 1), self.h0)\n",
    "        pred = self.linear(self.relu(out))\n",
    "        return pred[-1]\n"
   ]
  },
  {
   "cell_type": "code",
   "execution_count": 19,
   "metadata": {},
   "outputs": [],
   "source": [
    "model = Model()\n",
    "loss_function = nn.MSELoss()\n",
    "optimizer = torch.optim.Adam(model.parameters(), lr=1)"
   ]
  },
  {
   "cell_type": "code",
   "execution_count": 20,
   "metadata": {},
   "outputs": [
    {
     "name": "stderr",
     "output_type": "stream",
     "text": [
      "c:\\Users\\Vitaliy\\AppData\\Local\\Programs\\Python\\Python37\\lib\\site-packages\\torch\\nn\\modules\\loss.py:530: UserWarning: Using a target size (torch.Size([])) that is different to the input size (torch.Size([1, 1])). This will likely lead to incorrect results due to broadcasting. Please ensure they have the same size.\n",
      "  return F.mse_loss(input, target, reduction=self.reduction)\n"
     ]
    }
   ],
   "source": [
    "epochs = 3\n",
    "model.train()\n",
    "\n",
    "for i in range(epochs):\n",
    "    loss_epoch = []\n",
    "    preds = []\n",
    "    labels_mas = []\n",
    "    for seq, labels in train:\n",
    "        optimizer.zero_grad()\n",
    "\n",
    "        y_pred = model(seq)\n",
    "        \n",
    "        loss = loss_function(y_pred, labels)\n",
    "\n",
    "        labels_mas.append(labels.item())\n",
    "        loss_epoch.append((loss.item())**(1/2))\n",
    "        preds.append(y_pred.item())\n",
    "\n",
    "        loss.backward()\n",
    "        optimizer.step()\n"
   ]
  },
  {
   "cell_type": "code",
   "execution_count": 36,
   "metadata": {},
   "outputs": [],
   "source": [
    "mas = []\n",
    "model.eval()\n",
    "\n",
    "with torch.no_grad():\n",
    "    for seq, lab in test:\n",
    "        pred = model(seq)\n",
    "        mas.append(pred)"
   ]
  },
  {
   "cell_type": "code",
   "execution_count": 39,
   "metadata": {},
   "outputs": [
    {
     "name": "stderr",
     "output_type": "stream",
     "text": [
      "c:\\Users\\Vitaliy\\AppData\\Local\\Programs\\Python\\Python37\\lib\\site-packages\\sklearn\\utils\\validation.py:746: FutureWarning: The input object of type 'Tensor' is an array-like implementing one of the corresponding protocols (`__array__`, `__array_interface__` or `__array_struct__`); but not a sequence (or 0-D). In the future, this object will be coerced as if it was first converted using `np.array(obj)`. To retain the old behaviour, you have to either modify the type 'Tensor', or assign to an empty array created with `np.empty(correct_shape, dtype=object)`.\n",
      "  array = np.asarray(array, order=order, dtype=dtype)\n",
      "c:\\Users\\Vitaliy\\AppData\\Local\\Programs\\Python\\Python37\\lib\\site-packages\\sklearn\\utils\\validation.py:746: VisibleDeprecationWarning: Creating an ndarray from ragged nested sequences (which is a list-or-tuple of lists-or-tuples-or ndarrays with different lengths or shapes) is deprecated. If you meant to do this, you must specify 'dtype=object' when creating the ndarray.\n",
      "  array = np.asarray(array, order=order, dtype=dtype)\n",
      "c:\\Users\\Vitaliy\\AppData\\Local\\Programs\\Python\\Python37\\lib\\site-packages\\sklearn\\metrics\\_regression.py:95: FutureWarning: Arrays of bytes/strings is being converted to decimal numbers if dtype='numeric'. This behavior is deprecated in 0.24 and will be removed in 1.1 (renaming of 0.26). Please convert your data to numeric values explicitly instead.\n",
      "  y_true = check_array(y_true, ensure_2d=False, dtype=dtype)\n"
     ]
    },
    {
     "data": {
      "text/plain": [
       "450.47921316964283"
      ]
     },
     "execution_count": 39,
     "metadata": {},
     "output_type": "execute_result"
    }
   ],
   "source": [
    "lbs = [lab for seq, lab in test]\n",
    "mae(mas, lbs)"
   ]
  },
  {
   "cell_type": "code",
   "execution_count": null,
   "metadata": {},
   "outputs": [],
   "source": []
  }
 ],
 "metadata": {
  "kernelspec": {
   "display_name": "Python 3",
   "language": "python",
   "name": "python3"
  },
  "language_info": {
   "codemirror_mode": {
    "name": "ipython",
    "version": 3
   },
   "file_extension": ".py",
   "mimetype": "text/x-python",
   "name": "python",
   "nbconvert_exporter": "python",
   "pygments_lexer": "ipython3",
   "version": "3.7.7"
  }
 },
 "nbformat": 4,
 "nbformat_minor": 2
}
