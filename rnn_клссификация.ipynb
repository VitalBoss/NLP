{
 "cells": [
  {
   "cell_type": "code",
   "execution_count": 1,
   "metadata": {},
   "outputs": [],
   "source": [
    "import pandas as pd\n",
    "import numpy as np \n",
    "import matplotlib.pyplot as plt\n",
    "import seaborn as sns\n",
    "from collections import Counter\n",
    "from sklearn.model_selection import train_test_split"
   ]
  },
  {
   "cell_type": "code",
   "execution_count": 2,
   "metadata": {},
   "outputs": [
    {
     "name": "stderr",
     "output_type": "stream",
     "text": [
      "c:\\Users\\Vitaliy\\AppData\\Local\\Programs\\Python\\Python37\\lib\\site-packages\\tqdm\\auto.py:21: TqdmWarning: IProgress not found. Please update jupyter and ipywidgets. See https://ipywidgets.readthedocs.io/en/stable/user_install.html\n",
      "  from .autonotebook import tqdm as notebook_tqdm\n"
     ]
    }
   ],
   "source": [
    "import torch\n",
    "import nltk\n",
    "from nltk.tokenize import word_tokenize \n",
    "from torch.utils.data import DataLoader\n",
    "import torch.nn as nn\n",
    "from tqdm import tqdm"
   ]
  },
  {
   "cell_type": "code",
   "execution_count": 3,
   "metadata": {},
   "outputs": [],
   "source": [
    "corpus = pd.read_csv('C:\\\\Users\\\\Vitaliy\\\\OneDrive\\\\Рабочий стол\\\\классификация текста\\\\APPLE_iPhone_SE.csv')"
   ]
  },
  {
   "cell_type": "code",
   "execution_count": 4,
   "metadata": {},
   "outputs": [
    {
     "data": {
      "text/html": [
       "<div>\n",
       "<style scoped>\n",
       "    .dataframe tbody tr th:only-of-type {\n",
       "        vertical-align: middle;\n",
       "    }\n",
       "\n",
       "    .dataframe tbody tr th {\n",
       "        vertical-align: top;\n",
       "    }\n",
       "\n",
       "    .dataframe thead th {\n",
       "        text-align: right;\n",
       "    }\n",
       "</style>\n",
       "<table border=\"1\" class=\"dataframe\">\n",
       "  <thead>\n",
       "    <tr style=\"text-align: right;\">\n",
       "      <th></th>\n",
       "      <th>Ratings</th>\n",
       "      <th>Comment</th>\n",
       "      <th>Reviews</th>\n",
       "    </tr>\n",
       "  </thead>\n",
       "  <tbody>\n",
       "    <tr>\n",
       "      <th>0</th>\n",
       "      <td>5</td>\n",
       "      <td>Super!</td>\n",
       "      <td>Great camera for pics and videos Battery life ...</td>\n",
       "    </tr>\n",
       "    <tr>\n",
       "      <th>1</th>\n",
       "      <td>5</td>\n",
       "      <td>Must buy!</td>\n",
       "      <td>Great device. Let me tell the Pros..1. Superb ...</td>\n",
       "    </tr>\n",
       "    <tr>\n",
       "      <th>2</th>\n",
       "      <td>5</td>\n",
       "      <td>Great product</td>\n",
       "      <td>Who all loves older size i.e., 4.7 inch type s...</td>\n",
       "    </tr>\n",
       "    <tr>\n",
       "      <th>3</th>\n",
       "      <td>5</td>\n",
       "      <td>Simply awesome</td>\n",
       "      <td>This iPhone SE is the best phone ever you get....</td>\n",
       "    </tr>\n",
       "    <tr>\n",
       "      <th>4</th>\n",
       "      <td>5</td>\n",
       "      <td>Classy product</td>\n",
       "      <td>This is my second iphone after iphone 4s. I’ve...</td>\n",
       "    </tr>\n",
       "    <tr>\n",
       "      <th>...</th>\n",
       "      <td>...</td>\n",
       "      <td>...</td>\n",
       "      <td>...</td>\n",
       "    </tr>\n",
       "    <tr>\n",
       "      <th>9708</th>\n",
       "      <td>5</td>\n",
       "      <td>Terrific purchase</td>\n",
       "      <td>Absolutely brilliantREAD MORE</td>\n",
       "    </tr>\n",
       "    <tr>\n",
       "      <th>9709</th>\n",
       "      <td>5</td>\n",
       "      <td>Classy product</td>\n",
       "      <td>Superb phone. This is my 4th iPhone, I feel SE...</td>\n",
       "    </tr>\n",
       "    <tr>\n",
       "      <th>9710</th>\n",
       "      <td>5</td>\n",
       "      <td>Awesome</td>\n",
       "      <td>very niceREAD MORE</td>\n",
       "    </tr>\n",
       "    <tr>\n",
       "      <th>9711</th>\n",
       "      <td>5</td>\n",
       "      <td>Super!</td>\n",
       "      <td>Loving it as of now. Good Product .READ MORE</td>\n",
       "    </tr>\n",
       "    <tr>\n",
       "      <th>9712</th>\n",
       "      <td>5</td>\n",
       "      <td>Terrific purchase</td>\n",
       "      <td>NiceElegant ElectricREAD MORE</td>\n",
       "    </tr>\n",
       "  </tbody>\n",
       "</table>\n",
       "<p>9713 rows × 3 columns</p>\n",
       "</div>"
      ],
      "text/plain": [
       "      Ratings            Comment  \\\n",
       "0           5             Super!   \n",
       "1           5          Must buy!   \n",
       "2           5      Great product   \n",
       "3           5     Simply awesome   \n",
       "4           5     Classy product   \n",
       "...       ...                ...   \n",
       "9708        5  Terrific purchase   \n",
       "9709        5     Classy product   \n",
       "9710        5            Awesome   \n",
       "9711        5             Super!   \n",
       "9712        5  Terrific purchase   \n",
       "\n",
       "                                                Reviews  \n",
       "0     Great camera for pics and videos Battery life ...  \n",
       "1     Great device. Let me tell the Pros..1. Superb ...  \n",
       "2     Who all loves older size i.e., 4.7 inch type s...  \n",
       "3     This iPhone SE is the best phone ever you get....  \n",
       "4     This is my second iphone after iphone 4s. I’ve...  \n",
       "...                                                 ...  \n",
       "9708                      Absolutely brilliantREAD MORE  \n",
       "9709  Superb phone. This is my 4th iPhone, I feel SE...  \n",
       "9710                                 very niceREAD MORE  \n",
       "9711       Loving it as of now. Good Product .READ MORE  \n",
       "9712                      NiceElegant ElectricREAD MORE  \n",
       "\n",
       "[9713 rows x 3 columns]"
      ]
     },
     "execution_count": 4,
     "metadata": {},
     "output_type": "execute_result"
    }
   ],
   "source": [
    "corpus"
   ]
  },
  {
   "cell_type": "code",
   "execution_count": 5,
   "metadata": {},
   "outputs": [
    {
     "data": {
      "text/plain": [
       "\"Really superb.. Awesome it's my Genuine FeedbackREAD MORE\""
      ]
     },
     "execution_count": 5,
     "metadata": {},
     "output_type": "execute_result"
    }
   ],
   "source": [
    "corpus.Reviews.iloc[1000]"
   ]
  },
  {
   "cell_type": "markdown",
   "metadata": {},
   "source": [
    "удалим READ MORE из Reviews"
   ]
  },
  {
   "cell_type": "code",
   "execution_count": 6,
   "metadata": {},
   "outputs": [],
   "source": [
    "def delete(x):\n",
    "    x = x.replace('READ MORE', '')\n",
    "    return x\n",
    "\n",
    "corpus['Reviews'] = corpus.Reviews.apply(lambda x: delete(x))"
   ]
  },
  {
   "cell_type": "markdown",
   "metadata": {},
   "source": [
    "разделим на train, validation, test"
   ]
  },
  {
   "cell_type": "code",
   "execution_count": 7,
   "metadata": {},
   "outputs": [],
   "source": [
    "X = corpus.drop(['Ratings'], axis=1)\n",
    "y = corpus.Ratings\n",
    "\n",
    "X_train, X_test, y_train, y_test = train_test_split(X, y, test_size=0.3, random_state=42)\n",
    "X_val, X_test, y_val, y_test = train_test_split(X_test, y_test, test_size=0.5, random_state=42)"
   ]
  },
  {
   "cell_type": "code",
   "execution_count": 8,
   "metadata": {},
   "outputs": [
    {
     "data": {
      "text/plain": [
       "'Good phone for its price. Camera performs great with good lighting.'"
      ]
     },
     "execution_count": 8,
     "metadata": {},
     "output_type": "execute_result"
    }
   ],
   "source": [
    "X_train.Reviews.iloc[150]"
   ]
  },
  {
   "cell_type": "code",
   "execution_count": 9,
   "metadata": {},
   "outputs": [
    {
     "name": "stderr",
     "output_type": "stream",
     "text": [
      "[nltk_data] Downloading package wordnet to\n",
      "[nltk_data]     C:\\Users\\Vitaliy\\AppData\\Roaming\\nltk_data...\n",
      "[nltk_data]   Package wordnet is already up-to-date!\n",
      "[nltk_data] Downloading package stopwords to\n",
      "[nltk_data]     C:\\Users\\Vitaliy\\AppData\\Roaming\\nltk_data...\n",
      "[nltk_data]   Package stopwords is already up-to-date!\n"
     ]
    }
   ],
   "source": [
    "from nltk.stem import WordNetLemmatizer\n",
    "lemmatizer = WordNetLemmatizer()\n",
    "nltk.download('wordnet')\n",
    "\n",
    "from nltk.corpus import stopwords\n",
    "nltk.download('stopwords')\n",
    "stop_words = set(stopwords.words('english'))"
   ]
  },
  {
   "cell_type": "code",
   "execution_count": 10,
   "metadata": {},
   "outputs": [],
   "source": [
    "bag_of_words = Counter()"
   ]
  },
  {
   "cell_type": "markdown",
   "metadata": {},
   "source": [
    "обработаем тексты"
   ]
  },
  {
   "cell_type": "code",
   "execution_count": 11,
   "metadata": {},
   "outputs": [],
   "source": [
    "def text_preprocessing(x):\n",
    "    global bag_of_words\n",
    "\n",
    "    x = x.replace('READ MORE', '')\n",
    "    x_token = word_tokenize(x)\n",
    "    for elem in x_token:\n",
    "        if elem not in stop_words:\n",
    "            x = lemmatizer.lemmatize(elem)\n",
    "            \n",
    "            if x in bag_of_words:\n",
    "                bag_of_words[x] += 1\n",
    "            else:\n",
    "                bag_of_words[x] = 1"
   ]
  },
  {
   "cell_type": "code",
   "execution_count": 12,
   "metadata": {},
   "outputs": [
    {
     "data": {
      "text/plain": [
       "0       None\n",
       "1       None\n",
       "2       None\n",
       "3       None\n",
       "4       None\n",
       "        ... \n",
       "9708    None\n",
       "9709    None\n",
       "9710    None\n",
       "9711    None\n",
       "9712    None\n",
       "Name: Reviews, Length: 9713, dtype: object"
      ]
     },
     "execution_count": 12,
     "metadata": {},
     "output_type": "execute_result"
    }
   ],
   "source": [
    "corpus.Comment.apply(lambda x: text_preprocessing(x))\n",
    "corpus.Reviews.apply(lambda x: text_preprocessing(x))"
   ]
  },
  {
   "cell_type": "markdown",
   "metadata": {},
   "source": [
    "Удалим редко встречающиеся слова (по желанию)"
   ]
  },
  {
   "cell_type": "code",
   "execution_count": 13,
   "metadata": {},
   "outputs": [],
   "source": [
    "flag = False\n",
    "treshold = 5\n",
    "\n",
    "if flag:\n",
    "    words = set()\n",
    "\n",
    "    for word in bag_of_words:\n",
    "        if bag_of_words[word] >= treshold:\n",
    "            words.add(word)"
   ]
  },
  {
   "cell_type": "markdown",
   "metadata": {},
   "source": [
    "Также добавим токены начала и конца предложения и неизвестный токен"
   ]
  },
  {
   "cell_type": "code",
   "execution_count": 14,
   "metadata": {},
   "outputs": [],
   "source": [
    "bag_of_words['unk'] = 1\n",
    "bag_of_words['bos'] = 1\n",
    "bag_of_words['eos'] = 1\n",
    "bag_of_words['pad'] = 1"
   ]
  },
  {
   "cell_type": "code",
   "execution_count": 15,
   "metadata": {},
   "outputs": [
    {
     "data": {
      "text/plain": [
       "10620"
      ]
     },
     "execution_count": 15,
     "metadata": {},
     "output_type": "execute_result"
    }
   ],
   "source": [
    "len(bag_of_words)"
   ]
  },
  {
   "cell_type": "markdown",
   "metadata": {},
   "source": [
    "составим словари word2idx и idx2word"
   ]
  },
  {
   "cell_type": "code",
   "execution_count": 16,
   "metadata": {},
   "outputs": [],
   "source": [
    "word2idx = {word: idx for idx, word in enumerate(bag_of_words)}\n",
    "idx2word = {word2idx[word] : word for word in word2idx} "
   ]
  },
  {
   "cell_type": "markdown",
   "metadata": {},
   "source": [
    "определим даталодер для обоих текстов"
   ]
  },
  {
   "cell_type": "code",
   "execution_count": 17,
   "metadata": {},
   "outputs": [],
   "source": [
    "class Dataset:\n",
    "    def __init__(self, data_text, data_label, bag_of_words):\n",
    "        self.data = data_text\n",
    "        self.data_r = data_text['Reviews']\n",
    "        self.data_c = data_text['Comment']\n",
    "        self.labels = data_label\n",
    "        self.unk = word2idx['unk']\n",
    "        self.bos = word2idx['bos']\n",
    "        self.eos = word2idx['eos']\n",
    "        self.bag_of_words = bag_of_words\n",
    "\n",
    "    def __getitem__(self, idx):\n",
    "        mas1 = [self.bos]\n",
    "        mas2 = [self.bos]\n",
    "\n",
    "        for word in word_tokenize(self.data_c.iloc[idx]):\n",
    "            if not word in stop_words:\n",
    "                word = lemmatizer.lemmatize(word)\n",
    "                if word in self.bag_of_words:\n",
    "                    mas1.append(word2idx[word])\n",
    "                else:\n",
    "                    mas1.append(self.unk)\n",
    "        mas1.append(self.eos)\n",
    "        #--------------------------------------------\n",
    "        for word in word_tokenize(self.data_r.iloc[idx]):\n",
    "            if not word in stop_words:\n",
    "                word = lemmatizer.lemmatize(word)\n",
    "                if word in self.bag_of_words:\n",
    "                    mas2.append(word2idx[word])\n",
    "                else:\n",
    "                    mas2.append(self.unk)\n",
    "        mas2.append(self.eos)\n",
    "        \n",
    "        sample = {\n",
    "            'text_c' : mas1,\n",
    "            'text_r' : mas2,\n",
    "            'label' : self.labels.iloc[idx]\n",
    "        }\n",
    "        return sample\n",
    "\n",
    "\n",
    "    def __len__(self):\n",
    "        return len(self.data)\n"
   ]
  },
  {
   "cell_type": "code",
   "execution_count": 18,
   "metadata": {},
   "outputs": [],
   "source": [
    "dataset_train = Dataset(X_train, y_train, bag_of_words)\n",
    "dataset_val = Dataset(X_val, y_val, bag_of_words)\n",
    "dataset_test = Dataset(X_test, y_test, bag_of_words)\n"
   ]
  },
  {
   "cell_type": "code",
   "execution_count": 19,
   "metadata": {},
   "outputs": [],
   "source": [
    "def collate_function(batch, max_length = 100):\n",
    "    len_sentences_c = [len(seq['text_c']) for seq in batch]\n",
    "    max_length_c = min(max(len_sentences_c), max_length)\n",
    "\n",
    "    len_sentences_r = [len(seq['text_r']) for seq in batch]\n",
    "    max_length_r = min(max(len_sentences_r), max_length)\n",
    "\n",
    "    collate = []\n",
    "    for seq in batch:\n",
    "        while len(seq['text_c']) < max_length_c:\n",
    "            seq['text_c'].append(word2idx['pad'])\n",
    "        if len(seq['text_c']) > max_length_c:\n",
    "            seq['text_c'] = seq['text_c'][:100]\n",
    "        collate.append(seq['text_c'])\n",
    "    #---------------------------------------------------\n",
    "    collate2 = []\n",
    "    for seq in batch:\n",
    "        while len(seq['text_r']) < max_length_r:\n",
    "            seq['text_r'].append(word2idx['pad'])\n",
    "        if len(seq['text_r']) > max_length_r:\n",
    "            seq['text_r'] = seq['text_r'][:100]\n",
    "        collate2.append(seq['text_r'])\n",
    "\n",
    "\n",
    "    collate = torch.LongTensor(collate)\n",
    "    collate2 = torch.LongTensor(collate2)\n",
    "    labels = torch.LongTensor([seq['label'] - 1 for seq in batch])\n",
    "\n",
    "    sample = {\n",
    "            'text_c' : collate,\n",
    "            'text_r' : collate2,\n",
    "            'label' : labels\n",
    "        }\n",
    "\n",
    "    return sample\n",
    "\n",
    "        "
   ]
  },
  {
   "cell_type": "code",
   "execution_count": 20,
   "metadata": {},
   "outputs": [],
   "source": [
    "batch_size = 32\n",
    "\n",
    "train_dataloader = DataLoader(dataset_train, collate_fn = collate_function, batch_size=batch_size)\n",
    "val_dataloader = DataLoader(dataset_val, collate_fn = collate_function, batch_size=batch_size)\n",
    "test_dataloader = DataLoader(dataset_test, collate_fn = collate_function, batch_size=batch_size)"
   ]
  },
  {
   "cell_type": "markdown",
   "metadata": {},
   "source": [
    "Определим модель"
   ]
  },
  {
   "cell_type": "code",
   "execution_count": 58,
   "metadata": {},
   "outputs": [],
   "source": [
    "class Model(nn.Module):\n",
    "    def __init__(self, vocab, hidden_dim = 100, len_sentences = 100, rate=5):\n",
    "        super().__init__()\n",
    "        \n",
    "        self.embedding = nn.Embedding(len(vocab), hidden_dim)\n",
    "        self.rnn = nn.LSTM(len_sentences, hidden_dim, batch_first=True)\n",
    "        self.linear = nn.Linear(hidden_dim, rate)\n",
    "        self.linear2 = nn.Linear(rate, rate)\n",
    "        self.droput = nn.Dropout(0.1)\n",
    "        self.relu = nn.ReLU()\n",
    "\n",
    "\n",
    "    def forward(self, inp_batch):\n",
    "        emb = self.embedding(inp_batch['text_c'])\n",
    "        out, _ = self.rnn(emb)\n",
    "        out = out.mean(dim=1)\n",
    "\n",
    "        emb = self.embedding(inp_batch['text_r'])\n",
    "        out2, _ = self.rnn(emb)\n",
    "        out2 = out2.mean(dim=1)\n",
    "\n",
    "        out = self.droput(self.relu(self.linear(out)))\n",
    "        out2 = self.droput(self.relu(self.linear(out2)))\n",
    "\n",
    "        pred = out + out2\n",
    "        #pred = self.droput(self.relu(self.linear2(pred)))\n",
    "        return pred"
   ]
  },
  {
   "cell_type": "code",
   "execution_count": 59,
   "metadata": {},
   "outputs": [],
   "source": [
    "model = Model(bag_of_words)\n",
    "criterion = nn.CrossEntropyLoss(ignore_index=word2idx['pad'])\n",
    "optimizer = torch.optim.Adam(model.parameters())"
   ]
  },
  {
   "cell_type": "markdown",
   "metadata": {},
   "source": [
    "реализуем обучение модели"
   ]
  },
  {
   "cell_type": "code",
   "execution_count": 60,
   "metadata": {},
   "outputs": [],
   "source": [
    "def evaluate(dataloader, model):\n",
    "    loss_mas = []\n",
    "    with torch.no_grad():\n",
    "        for batch in dataloader:\n",
    "            pred = model(batch)\n",
    "            loss = criterion(pred, batch['label'])\n",
    "            loss_mas.append(loss.item())\n",
    "\n",
    "    return np.mean(loss_mas)\n"
   ]
  },
  {
   "cell_type": "code",
   "execution_count": 61,
   "metadata": {},
   "outputs": [
    {
     "name": "stderr",
     "output_type": "stream",
     "text": [
      "  0%|          | 0/5 [00:00<?, ?it/s]"
     ]
    },
    {
     "name": "stdout",
     "output_type": "stream",
     "text": [
      "loss epoch = 0.6301107729824496\n"
     ]
    },
    {
     "name": "stderr",
     "output_type": "stream",
     "text": [
      " 20%|██        | 1/5 [00:14<00:59, 14.95s/it]"
     ]
    },
    {
     "name": "stdout",
     "output_type": "stream",
     "text": [
      "val_loss epoch = 0.3212474446905696\n",
      "loss epoch = 0.22637484880260458\n"
     ]
    },
    {
     "name": "stderr",
     "output_type": "stream",
     "text": [
      " 40%|████      | 2/5 [00:29<00:44, 14.81s/it]"
     ]
    },
    {
     "name": "stdout",
     "output_type": "stream",
     "text": [
      "val_loss epoch = 0.19547111808281878\n",
      "loss epoch = 0.17727296091965947\n"
     ]
    },
    {
     "name": "stderr",
     "output_type": "stream",
     "text": [
      " 60%|██████    | 3/5 [00:46<00:31, 15.81s/it]"
     ]
    },
    {
     "name": "stdout",
     "output_type": "stream",
     "text": [
      "val_loss epoch = 0.19487767488412236\n",
      "loss epoch = 0.16079329667796552\n"
     ]
    },
    {
     "name": "stderr",
     "output_type": "stream",
     "text": [
      " 80%|████████  | 4/5 [01:05<00:17, 17.13s/it]"
     ]
    },
    {
     "name": "stdout",
     "output_type": "stream",
     "text": [
      "val_loss epoch = 0.21220477779760308\n",
      "loss epoch = 0.14709646837947618\n"
     ]
    },
    {
     "name": "stderr",
     "output_type": "stream",
     "text": [
      "100%|██████████| 5/5 [01:25<00:00, 17.07s/it]"
     ]
    },
    {
     "name": "stdout",
     "output_type": "stream",
     "text": [
      "val_loss epoch = 0.23735657725078257\n"
     ]
    },
    {
     "name": "stderr",
     "output_type": "stream",
     "text": [
      "\n"
     ]
    }
   ],
   "source": [
    "epochs = 5\n",
    "\n",
    "loss_epochs = []\n",
    "loss_eval = []\n",
    "\n",
    "for epoch in tqdm(range(epochs)):\n",
    "    loss_mas = []\n",
    "    for batch in train_dataloader:\n",
    "        optimizer.zero_grad()\n",
    "        pred = model(batch)\n",
    "        loss = criterion(pred, batch['label'])\n",
    "        loss_mas.append(loss.item())\n",
    "        loss.backward()\n",
    "        optimizer.step()\n",
    "\n",
    "    print(f'loss epoch = {np.mean(loss_mas)}')\n",
    "    loss_epochs.append(np.mean(loss_mas))\n",
    "\n",
    "    val_loss = evaluate(val_dataloader, model)\n",
    "    print(f'val_loss epoch = {np.mean(val_loss)}')\n",
    "    loss_eval.append(np.mean(val_loss))"
   ]
  },
  {
   "cell_type": "code",
   "execution_count": 65,
   "metadata": {},
   "outputs": [
    {
     "data": {
      "image/png": "[encoded data removed]",
      "text/plain": [
       "<Figure size 640x480 with 1 Axes>"
      ]
     },
     "metadata": {},
     "output_type": "display_data"
    }
   ],
   "source": [
    "plt.plot(loss_epochs, label='loss')\n",
    "plt.plot(loss_eval, label='val')\n",
    "plt.legend()\n",
    "plt.title(\"LSTM model\")\n",
    "plt.show()"
   ]
  },
  {
   "cell_type": "markdown",
   "metadata": {},
   "source": [
    "посчитаем точность "
   ]
  },
  {
   "cell_type": "code",
   "execution_count": 63,
   "metadata": {},
   "outputs": [],
   "source": [
    "def accuracy_multiclass(test_dataloader, model):\n",
    "    with torch.no_grad():\n",
    "        mas = []\n",
    "        for batch in test_dataloader:\n",
    "                pred = model(batch)\n",
    "                pred = [np.argmax(elem) for elem in pred]\n",
    "                mas.append([pred, batch['label']])\n",
    "\n",
    "\n",
    "    cnt = 0\n",
    "    true = 0\n",
    "    for i in range(len(mas)):\n",
    "        for j in range(len(mas[i][0])):\n",
    "            if mas[i][0][j] == mas[i][1][j]:\n",
    "                true += 1\n",
    "            cnt += 1\n",
    "    return true / cnt"
   ]
  },
  {
   "cell_type": "code",
   "execution_count": 64,
   "metadata": {},
   "outputs": [
    {
     "data": {
      "text/plain": [
       "0.9416609471516816"
      ]
     },
     "execution_count": 64,
     "metadata": {},
     "output_type": "execute_result"
    }
   ],
   "source": [
    "accuracy_multiclass(test_dataloader, model)"
   ]
  },
  {
   "cell_type": "code",
   "execution_count": null,
   "metadata": {},
   "outputs": [],
   "source": []
  }
 ],
 "metadata": {
  "kernelspec": {
   "display_name": "Python 3",
   "language": "python",
   "name": "python3"
  },
  "language_info": {
   "codemirror_mode": {
    "name": "ipython",
    "version": 3
   },
   "file_extension": ".py",
   "mimetype": "text/x-python",
   "name": "python",
   "nbconvert_exporter": "python",
   "pygments_lexer": "ipython3",
   "version": "3.7.7"
  }
 },
 "nbformat": 4,
 "nbformat_minor": 2
}
